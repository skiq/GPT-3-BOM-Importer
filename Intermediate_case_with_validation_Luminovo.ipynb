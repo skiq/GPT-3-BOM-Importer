{
 "cells": [
  {
   "cell_type": "code",
   "execution_count": 578,
   "metadata": {},
   "outputs": [],
   "source": [
    "#importing the necessary files\n",
    "import json\n",
    "import jsonlines            #because GPT3 needs files in jsonlines format\n",
    "import os                   #to get the env variables from the system\n",
    "import openai \n",
    "import pandas as pd\n",
    "import octopart_check\n",
    "import excel_to_csv\n",
    "from string import ascii_uppercase"
   ]
  },
  {
   "cell_type": "code",
   "execution_count": 579,
   "metadata": {},
   "outputs": [],
   "source": [
    "# Load your API key from an environment variable named as OPENAI_API_KEY\n",
    "openai.api_key = os.getenv(\"OPENAI_API_KEY\")"
   ]
  },
  {
   "cell_type": "code",
   "execution_count": 580,
   "metadata": {},
   "outputs": [
    {
     "ename": "FileNotFoundError",
     "evalue": "[Errno 2] No such file or directory: 'txt separated\\\\txt separated\\\\training data\\\\Bill of Materials-D-Muster_Pyramid _V1(Standard).txt'",
     "output_type": "error",
     "traceback": [
      "\u001b[1;31m-------------------------------------------------------------\u001b[0m",
      "\u001b[1;31mFileNotFoundError\u001b[0m           Traceback (most recent call last)",
      "\u001b[1;32m<ipython-input-580-865045856bc2>\u001b[0m in \u001b[0;36m<module>\u001b[1;34m\u001b[0m\n\u001b[0;32m      1\u001b[0m \u001b[1;31m#loading the pipe seperated pre-processed test file\u001b[0m\u001b[1;33m\u001b[0m\u001b[1;33m\u001b[0m\u001b[1;33m\u001b[0m\u001b[0m\n\u001b[1;32m----> 2\u001b[1;33m \u001b[1;32mwith\u001b[0m \u001b[0mopen\u001b[0m\u001b[1;33m(\u001b[0m\u001b[1;34mr'txt separated\\txt separated\\training data\\Bill of Materials-D-Muster_Pyramid _V1(Standard).txt'\u001b[0m\u001b[1;33m,\u001b[0m \u001b[1;34m'r'\u001b[0m\u001b[1;33m)\u001b[0m \u001b[1;32mas\u001b[0m \u001b[0mfile\u001b[0m\u001b[1;33m:\u001b[0m\u001b[1;33m\u001b[0m\u001b[1;33m\u001b[0m\u001b[0m\n\u001b[0m\u001b[0;32m      3\u001b[0m     \u001b[0mtraining_data\u001b[0m \u001b[1;33m=\u001b[0m \u001b[0mfile\u001b[0m\u001b[1;33m.\u001b[0m\u001b[0mread\u001b[0m\u001b[1;33m(\u001b[0m\u001b[1;33m)\u001b[0m\u001b[1;33m\u001b[0m\u001b[1;33m\u001b[0m\u001b[0m\n",
      "\u001b[1;31mFileNotFoundError\u001b[0m: [Errno 2] No such file or directory: 'txt separated\\\\txt separated\\\\training data\\\\Bill of Materials-D-Muster_Pyramid _V1(Standard).txt'"
     ]
    }
   ],
   "source": [
    "#loading the pipe seperated pre-processed test file\n",
    "with open(r'txt separated\\txt separated\\training data\\Bill of Materials-D-Muster_Pyramid _V1(Standard).txt', 'r') as file:\n",
    "    training_data = file.read()"
   ]
  },
  {
   "cell_type": "code",
   "execution_count": null,
   "metadata": {},
   "outputs": [],
   "source": [
    "#Convert to GPT3 accessible file format : {\"text\":\"...\",\"metadata\":\"...\"}\n",
    "format_training_data = { \"text\" : training_data, \"metadata\" : \"\"}"
   ]
  },
  {
   "cell_type": "code",
   "execution_count": null,
   "metadata": {},
   "outputs": [],
   "source": [
    "#convert the output into jsonl\n",
    "with jsonlines.open(r'Testing/format_training_data.jsonl', 'w') as writer:\n",
    "    writer.write(format_training_data)"
   ]
  },
  {
   "cell_type": "code",
   "execution_count": null,
   "metadata": {},
   "outputs": [],
   "source": [
    "# create file and uploading\n",
    "openai.File.create(file=open(r'Testing/format_training_data.jsonl'), purpose='answers')"
   ]
  },
  {
   "cell_type": "code",
   "execution_count": null,
   "metadata": {},
   "outputs": [],
   "source": [
    "#retrieve information to check if the file was successfully uploaded\n",
    "openai.File.retrieve('file-yNPq5TREDpmQ8OzAUX8hHTk9')"
   ]
  },
  {
   "cell_type": "code",
   "execution_count": null,
   "metadata": {},
   "outputs": [],
   "source": []
  },
  {
   "cell_type": "code",
   "execution_count": null,
   "metadata": {},
   "outputs": [],
   "source": [
    "#Creating parameters for GPT3 to learn our custome DATA\n",
    "example_text = \"|025|2.0|Stk||RS-422/RS-485 Interface IC Half-Duplex RS-485/RS-422-Compatible Transceiver with AutoDirection Control|PCB|MAX13487EESA+|U1, U13|Mouser|Maxim Integrated|https://www.mouser.de/ProductDetail/Maxim-Integrated/MAX13487EESA%2b?qs=sGAEpiMZZMuXae9YOZoWd9EBnNihOkMOLMC5ITnTDKk%3D |045|1.0|Stk||Crystals 32.768kHz 3pF 20ppm -40C +125C|PCB|ABS07W-32.768kHz-K-2-T|Y4|Mouser|ABRACON|https://www.mouser.de/ProductDetail/ABRACON/ABS07W-32768kHz-K-2-T?qs=gt1LBUVyoHkCHJuAeHVlqA%3D%3D |065|8.0|Stk||100uF - 25GV|PCB|865060445005|C11, C15, C16, C25, C27, C36, C38, C72|Würth Electronics||https://www.we-online.de/katalog/de/WCAP-ASLL/?sq=865060445005#865060445005 mV|TAIWAN SEMICONDUCTOR|SK56C||1.0|Farnell|1299292|124156.0|124156.0|| |40.0|Fitted|1.0|U7|FT234XD-R|FT234XD-R - DFN12|DFN-12|FTDI|FT234XD USB to BASIC UART IC, -40 to +85 degC, 12-Pin DFN, Pb-Free, Tape and Reel|FT234XD-R||Mouser|895-FT234XD-R|E00000000144 76.0|IC1|1.0|IFX1117MEV33|Spannungsregler|SOT230P700X170-4N|Infineon Technologies 1.0|U9|DS2764|DS2764BE+025 or DS2764AE+025|Li+ battery monitor I2C bus|Dallas||||75.0|90.0|| 20.0|16.0|STCK|032.062|74HC595 16P-DHVQFN16 HC-MOS SMD|A1-8, A10, A11, A14, A15, A18, A19, A21, A22|Nexperia 74HC595BQ,115 120.0|2.0|STCK|127.001|C 100p 50V NP0 0402 5\\%|SMD-KONDENSATOR|C43, C44|32.21.77, Sams CL05C101JB5NNNC\"\n",
    "q_a_examples =[[\"|025|2.0|Stk||RS-422/RS-485 Interface IC Half-Duplex RS-485/RS-422-Compatible Transceiver with AutoDirection Control|PCB|MAX13487EESA+|U1, U13|Mouser|Maxim Integrated|https://www.mouser.de/ProductDetail/Maxim-Integrated/MAX13487EESA%2b?qs=sGAEpiMZZMuXae9YOZoWd9EBnNihOkMOLMC5ITnTDKk%3D\",\"MAX13487EESA+\"],\n",
    "              [\"|045|1.0|Stk||Crystals 32.768kHz 3pF 20ppm -40C +125C|PCB|ABS07W-32.768kHz-K-2-T|Y4|Mouser|ABRACON|https://www.mouser.de/ProductDetail/ABRACON/ABS07W-32768kHz-K-2-T?qs=gt1LBUVyoHkCHJuAeHVlqA%3D%3D\",\"ABS07W-32.768kHz-K-2-T\"],\n",
    "              [\"|065|8.0|Stk||100uF - 25GV|PCB|865060445005|C11, C15, C16, C25, C27, C36, C38, C72|Würth Electronics||https://www.we-online.de/katalog/de/WCAP-ASLL/?sq=865060445005#865060445005\",\"865060445005\"],\n",
    "              [\"D1|SK56C||SMC|Gleichrichterdiode, Miniatur, Einfach, 60 V, 5 A, DO-214AB, 2, 750 mV|TAIWAN SEMICONDUCTOR|SK56C||1.0|Farnell|1299292|124156.0|124156.0||\",\"SK56C\"],\n",
    "              [\"|40.0|Fitted|1.0|U7|FT234XD-R|FT234XD-R - DFN12|DFN-12|FTDI|FT234XD USB to BASIC UART IC, -40 to +85 degC, 12-Pin DFN, Pb-Free, Tape and Reel|FT234XD-R||Mouser|895-FT234XD-R|E00000000144\",\"FT234XD-R\"],\n",
    "              [\"76.0|IC1|1.0|IFX1117MEV33|Spannungsregler|SOT230P700X170-4N|Infineon Technologies\",\"IFX1117MEV33\"],\n",
    "              [\"1.0|U9|DS2764|DS2764BE+025 or DS2764AE+025|Li+ battery monitor I2C bus|Dallas||||75.0|90.0||\",\"DS2764\"],\n",
    "              [\"20.0|16.0|STCK|032.062|74HC595 16P-DHVQFN16 HC-MOS SMD|A1-8, A10, A11, A14, A15, A18, A19, A21, A22|Nexperia 74HC595BQ,115\",\"74HC595BQ,115\"],\n",
    "              [\"120.0|2.0|STCK|127.001|C 100p 50V NP0 0402 5%|SMD-KONDENSATOR|C43, C44|32.21.77, Sams CL05C101JB5NNNC\",\"CL05C101JB5NNNC\"]] "
   ]
  },
  {
   "cell_type": "code",
   "execution_count": null,
   "metadata": {},
   "outputs": [],
   "source": [
    "#Define the question\n",
    "Q = \"1.0|XT1|14,7456MHz|XJHCCCNANF-14.7456|Quartz SMT; 14,7456MHz|Taitien||20ppm||75.0|90.0||\""
   ]
  },
  {
   "cell_type": "code",
   "execution_count": null,
   "metadata": {},
   "outputs": [],
   "source": [
    "#Bring GPT3 into action\n",
    "resp = openai.Answer.create( \n",
    "    model=\"ada\",\n",
    "    question= Q,\n",
    "    file=\"file-yNPq5TREDpmQ8OzAUX8hHTk9\", \n",
    "    examples_context=example_text,\n",
    "    examples=q_a_examples,\n",
    "    max_tokens=15,\n",
    "    temperature = 0.1,\n",
    "    stop=[\"\\n\", \"<|endoftext|>\"]\n",
    ")"
   ]
  },
  {
   "cell_type": "code",
   "execution_count": null,
   "metadata": {},
   "outputs": [],
   "source": [
    "resp['answers'][0]"
   ]
  },
  {
   "cell_type": "markdown",
   "metadata": {},
   "source": [
    "## Automate the process for every row in the excel sheet provided\n",
    "Excel file -> pre-process and convert to csv -> take every line in csv as the quesetion -> run gpt N times (N = # of rows in the excel) -> get the answer -> feed into validator function -> output next to the excel as new column "
   ]
  },
  {
   "cell_type": "markdown",
   "metadata": {},
   "source": [
    "###### def pre_process_excel()\n",
    "###### def get_question_from_csv():\n",
    "###### def run_gpt(question):\n",
    "###### def validator(ans_from_gpt)\n",
    "###### def print_to_excel(ans_from_octopart)"
   ]
  },
  {
   "cell_type": "code",
   "execution_count": 581,
   "metadata": {},
   "outputs": [],
   "source": [
    "#Creating parameters for GPT3 to learn our custome DATA\n",
    "example_text = \"|025|2.0|Stk||RS-422/RS-485 Interface IC Half-Duplex RS-485/RS-422-Compatible Transceiver with AutoDirection Control|PCB|MAX13487EESA+|U1, U13|Mouser|Maxim Integrated|https://www.mouser.de/ProductDetail/Maxim-Integrated/MAX13487EESA%2b?qs=sGAEpiMZZMuXae9YOZoWd9EBnNihOkMOLMC5ITnTDKk%3D |045|1.0|Stk||Crystals 32.768kHz 3pF 20ppm -40C +125C|PCB|ABS07W-32.768kHz-K-2-T|Y4|Mouser|ABRACON|https://www.mouser.de/ProductDetail/ABRACON/ABS07W-32768kHz-K-2-T?qs=gt1LBUVyoHkCHJuAeHVlqA%3D%3D |065|8.0|Stk||100uF - 25GV|PCB|865060445005|C11, C15, C16, C25, C27, C36, C38, C72|Würth Electronics||https://www.we-online.de/katalog/de/WCAP-ASLL/?sq=865060445005#865060445005 mV|TAIWAN SEMICONDUCTOR|SK56C||1.0|Farnell|1299292|124156.0|124156.0|| |40.0|Fitted|1.0|U7|FT234XD-R|FT234XD-R - DFN12|DFN-12|FTDI|FT234XD USB to BASIC UART IC, -40 to +85 degC, 12-Pin DFN, Pb-Free, Tape and Reel|FT234XD-R||Mouser|895-FT234XD-R|E00000000144 76.0|IC1|1.0|IFX1117MEV33|Spannungsregler|SOT230P700X170-4N|Infineon Technologies 1.0|U9|DS2764|DS2764BE+025 or DS2764AE+025|Li+ battery monitor I2C bus|Dallas||||75.0|90.0|| 20.0|16.0|STCK|032.062|74HC595 16P-DHVQFN16 HC-MOS SMD|A1-8, A10, A11, A14, A15, A18, A19, A21, A22|Nexperia 74HC595BQ,115 120.0|2.0|STCK|127.001|C 100p 50V NP0 0402 5\\%|SMD-KONDENSATOR|C43, C44|32.21.77, Sams CL05C101JB5NNNC\"\n",
    "q_a_examples =[[\"|025|2.0|Stk||RS-422/RS-485 Interface IC Half-Duplex RS-485/RS-422-Compatible Transceiver with AutoDirection Control|PCB|MAX13487EESA+|U1, U13|Mouser|Maxim Integrated|https://www.mouser.de/ProductDetail/Maxim-Integrated/MAX13487EESA%2b?qs=sGAEpiMZZMuXae9YOZoWd9EBnNihOkMOLMC5ITnTDKk%3D\",\"MAX13487EESA+\"],\n",
    "              [\"|045|1.0|Stk||Crystals 32.768kHz 3pF 20ppm -40C +125C|PCB|ABS07W-32.768kHz-K-2-T|Y4|Mouser|ABRACON|https://www.mouser.de/ProductDetail/ABRACON/ABS07W-32768kHz-K-2-T?qs=gt1LBUVyoHkCHJuAeHVlqA%3D%3D\",\"ABS07W-32.768kHz-K-2-T\"],\n",
    "              [\"|065|8.0|Stk||100uF - 25GV|PCB|865060445005|C11, C15, C16, C25, C27, C36, C38, C72|Würth Electronics||https://www.we-online.de/katalog/de/WCAP-ASLL/?sq=865060445005#865060445005\",\"865060445005\"],\n",
    "              [\"D1|SK56C||SMC|Gleichrichterdiode, Miniatur, Einfach, 60 V, 5 A, DO-214AB, 2, 750 mV|TAIWAN SEMICONDUCTOR|SK56C||1.0|Farnell|1299292|124156.0|124156.0||\",\"SK56C\"],\n",
    "              [\"|40.0|Fitted|1.0|U7|FT234XD-R|FT234XD-R - DFN12|DFN-12|FTDI|FT234XD USB to BASIC UART IC, -40 to +85 degC, 12-Pin DFN, Pb-Free, Tape and Reel|FT234XD-R||Mouser|895-FT234XD-R|E00000000144\",\"FT234XD-R\"],\n",
    "              [\"76.0|IC1|1.0|IFX1117MEV33|Spannungsregler|SOT230P700X170-4N|Infineon Technologies\",\"IFX1117MEV33\"],\n",
    "              [\"1.0|U9|DS2764|DS2764BE+025 or DS2764AE+025|Li+ battery monitor I2C bus|Dallas||||75.0|90.0||\",\"DS2764\"],\n",
    "              [\"20.0|16.0|STCK|032.062|74HC595 16P-DHVQFN16 HC-MOS SMD|A1-8, A10, A11, A14, A15, A18, A19, A21, A22|Nexperia 74HC595BQ,115\",\"74HC595BQ,115\"],\n",
    "              [\"120.0|2.0|STCK|127.001|C 100p 50V NP0 0402 5%|SMD-KONDENSATOR|C43, C44|32.21.77, Sams CL05C101JB5NNNC\",\"CL05C101JB5NNNC\"]] "
   ]
  },
  {
   "cell_type": "code",
   "execution_count": 582,
   "metadata": {},
   "outputs": [],
   "source": [
    "# Step1: File converted from excel to CSV with the import command"
   ]
  },
  {
   "cell_type": "code",
   "execution_count": 583,
   "metadata": {},
   "outputs": [],
   "source": [
    "# Step2: Getting the name of the csv file\n",
    "for filename in os.listdir(\"UploadedFile/\"):\n",
    "    if filename.endswith(\".txt\"):\n",
    "        text_file = \"UploadedFile/\"+filename"
   ]
  },
  {
   "cell_type": "code",
   "execution_count": 595,
   "metadata": {},
   "outputs": [
    {
     "name": "stderr",
     "output_type": "stream",
     "text": [
      "Upload progress: 100%|████| 931/931 [00:00<00:00, 1.89kit/s]\n"
     ]
    }
   ],
   "source": [
    "#Step3 : Feeding the file to GPT3 for using as the document to extract information from\n",
    "\n",
    "def Upload_File_for_gpt3(text_file):\n",
    "\n",
    "    #loading the pipe seperated pre-processed test file\n",
    "    with open(text_file, 'r') as file:\n",
    "        training_data = file.read()\n",
    "\n",
    "    #Convert to GPT3 accessible file format : {\"text\":\"...\",\"metadata\":\"...\"}\n",
    "    format_training_data = { \"text\" : training_data, \"metadata\" : \"\"}   \n",
    "\n",
    "    #convert the output into jsonl\n",
    "    with jsonlines.open(r'UploadedFile/format_training_data2.jsonl', 'w') as writer:\n",
    "        writer.write(format_training_data)\n",
    "\n",
    "    # create file and uploading for GPT3 to access later\n",
    "    for filename in os.listdir(\"UploadedFile/\"):\n",
    "        if filename.endswith(\".jsonl\"):\n",
    "            t_file = \"UploadedFile/\"+filename\n",
    "    gpt_file = openai.File.create(file=open(t_file), purpose='answers')\n",
    "    \n",
    "    return gpt_file[\"id\"]\n",
    "\n",
    "file_id = Upload_File_for_gpt3(text_file)\n"
   ]
  },
  {
   "cell_type": "code",
   "execution_count": 585,
   "metadata": {},
   "outputs": [],
   "source": [
    "# Step4: Get questions from the file and use find_index() to get the index of that question\n",
    "def get_question_from_csv(file = text_file):\n",
    "    with open(file, 'r') as f: \n",
    "        MyData = f.readlines()\n",
    "        ques_and_index = []\n",
    "        for text in MyData:\n",
    "            if len(text) > 50 :\n",
    "                index = find_index(file, text)\n",
    "                q_n_t = [text,index]\n",
    "                ques_and_index.append(q_n_t) #creating a list with 2 values, question and its index\n",
    "    return ques_and_index"
   ]
  },
  {
   "cell_type": "code",
   "execution_count": 586,
   "metadata": {},
   "outputs": [],
   "source": [
    "#Step5: Finds the index of the question from the txt file\n",
    "def find_index(file,text_to_find): \n",
    "    with open(file, 'r') as f: \n",
    "        MyData = f.readlines() \n",
    "        for index, row in enumerate(MyData):\n",
    "            if text_to_find in row:\n",
    "                return index+1"
   ]
  },
  {
   "cell_type": "code",
   "execution_count": 596,
   "metadata": {},
   "outputs": [],
   "source": [
    "#Step6: GPT3 in action\n",
    "def run_gpt(ques,example_text,q_a_examples):    \n",
    "\n",
    "    response = openai.Answer.create( \n",
    "    model=\"ada\",\n",
    "    question= ques,\n",
    "    file=file_id, \n",
    "    examples_context=example_text,\n",
    "    examples=q_a_examples,\n",
    "    max_tokens=20,\n",
    "    stop=[\"\\n\", \"<|endoftext|>\"]\n",
    "    )\n",
    "\n",
    "    ##get the MPN from gpt3\n",
    "    MPN = response['answers'][0]\n",
    "    \n",
    "    return MPN,response"
   ]
  },
  {
   "cell_type": "code",
   "execution_count": 597,
   "metadata": {},
   "outputs": [],
   "source": [
    "#Step 7: Get the required MPN and index by running gpt3\n",
    "def get_MPN_and_index(example_text,q_a_examples):\n",
    "    ques_and_index = get_question_from_csv()\n",
    "    MPN_and_index = []\n",
    "    for it in (ques_and_index):\n",
    "        ques = it[0]        \n",
    "        MPN,response = run_gpt(ques,example_text,q_a_examples)\n",
    "        index = it[1]\n",
    "        MPN_and_index.append([MPN,index])\n",
    "        \n",
    "    return MPN_and_index\n",
    "    "
   ]
  },
  {
   "cell_type": "code",
   "execution_count": 598,
   "metadata": {},
   "outputs": [],
   "source": [
    "MPN_list = get_MPN_and_index(example_text,q_a_examples)"
   ]
  },
  {
   "cell_type": "code",
   "execution_count": 599,
   "metadata": {},
   "outputs": [
    {
     "name": "stdout",
     "output_type": "stream",
     "text": [
      "[['GRM31CR72A105KA01', 1], ['R0805', 3], ['T101, T102, T302, T303', 5], ['720-LOL29KH2L124Z', 7], ['R104', 9]]\n"
     ]
    }
   ],
   "source": [
    "print(MPN_list)"
   ]
  },
  {
   "cell_type": "code",
   "execution_count": 600,
   "metadata": {},
   "outputs": [
    {
     "data": {
      "text/plain": [
       "<OpenAIObject list at 0x1f03af98168> JSON: {\n",
       "  \"data\": [\n",
       "    {\n",
       "      \"bytes\": 662,\n",
       "      \"created_at\": 1618672537,\n",
       "      \"filename\": \"UploadedFile/format_training_data.jsonl\",\n",
       "      \"id\": \"file-R6nOOMlxB9see6ifnxBX95LV\",\n",
       "      \"object\": \"file\",\n",
       "      \"purpose\": \"answers\",\n",
       "      \"status\": \"processed\",\n",
       "      \"status_details\": null\n",
       "    },\n",
       "    {\n",
       "      \"bytes\": 662,\n",
       "      \"created_at\": 1618672788,\n",
       "      \"filename\": \"UploadedFile/format_training_data.jsonl\",\n",
       "      \"id\": \"file-5gU42bW6tXWLVNbmTmqFCCCD\",\n",
       "      \"object\": \"file\",\n",
       "      \"purpose\": \"answers\",\n",
       "      \"status\": \"processed\",\n",
       "      \"status_details\": null\n",
       "    },\n",
       "    {\n",
       "      \"bytes\": 7660,\n",
       "      \"created_at\": 1618607848,\n",
       "      \"filename\": \"Testing/format_training_data.jsonl\",\n",
       "      \"id\": \"file-yNPq5TREDpmQ8OzAUX8hHTk9\",\n",
       "      \"object\": \"file\",\n",
       "      \"purpose\": \"answers\",\n",
       "      \"status\": \"processed\",\n",
       "      \"status_details\": null\n",
       "    },\n",
       "    {\n",
       "      \"bytes\": 662,\n",
       "      \"created_at\": 1618673618,\n",
       "      \"filename\": \"UploadedFile/format_training_data.jsonl\",\n",
       "      \"id\": \"file-oLJJ5TteGYgIbOsEglTJtH7z\",\n",
       "      \"object\": \"file\",\n",
       "      \"purpose\": \"answers\",\n",
       "      \"status\": \"processed\",\n",
       "      \"status_details\": null\n",
       "    },\n",
       "    {\n",
       "      \"bytes\": 662,\n",
       "      \"created_at\": 1618672749,\n",
       "      \"filename\": \"UploadedFile/format_training_data.jsonl\",\n",
       "      \"id\": \"file-S4McesnwKuiTY2NyzcVsBwNz\",\n",
       "      \"object\": \"file\",\n",
       "      \"purpose\": \"answers\",\n",
       "      \"status\": \"processed\",\n",
       "      \"status_details\": null\n",
       "    },\n",
       "    {\n",
       "      \"bytes\": 662,\n",
       "      \"created_at\": 1618673711,\n",
       "      \"filename\": \"UploadedFile/format_training_data2.jsonl\",\n",
       "      \"id\": \"file-TiMBhJVBkVTNCYXyFXc0LJjV\",\n",
       "      \"object\": \"file\",\n",
       "      \"purpose\": \"answers\",\n",
       "      \"status\": \"processed\",\n",
       "      \"status_details\": null\n",
       "    },\n",
       "    {\n",
       "      \"bytes\": 662,\n",
       "      \"created_at\": 1618673844,\n",
       "      \"filename\": \"UploadedFile/format_training_data2.jsonl\",\n",
       "      \"id\": \"file-dOSRAwkpSV0GUHSIADWba8bS\",\n",
       "      \"object\": \"file\",\n",
       "      \"purpose\": \"answers\",\n",
       "      \"status\": \"processed\",\n",
       "      \"status_details\": null\n",
       "    }\n",
       "  ],\n",
       "  \"object\": \"list\"\n",
       "}"
      ]
     },
     "execution_count": 600,
     "metadata": {},
     "output_type": "execute_result"
    }
   ],
   "source": [
    "#Checking list of uploaded files\n",
    "openai.File.list()\n",
    "# openai.File.delete(\"file-WwlEmlKmGOjjneemTEB8ktJR\")"
   ]
  },
  {
   "cell_type": "code",
   "execution_count": null,
   "metadata": {},
   "outputs": [],
   "source": [
    "# def validate_MPN(MPN):\n",
    "#     match = demo_match_mpn(client,str(MPN))\n",
    "#     return match"
   ]
  },
  {
   "cell_type": "code",
   "execution_count": null,
   "metadata": {},
   "outputs": [],
   "source": [
    "# def create_excel_file():\n",
    "#     \"\"\"can use pandas or xlsxwriter\"\"\"\n",
    "#     pass\n",
    "#     return new_excel_file"
   ]
  },
  {
   "cell_type": "code",
   "execution_count": null,
   "metadata": {},
   "outputs": [],
   "source": [
    "# def print_to_excel(match,new_excel_file):    \n",
    "#     \"\"\" get the information from validator and put it in the correct row of newly created excel sheet\"\"\"\n",
    "    \n",
    "#     pass\n",
    "#     print(\"File is ready to download\")"
   ]
  },
  {
   "cell_type": "code",
   "execution_count": null,
   "metadata": {},
   "outputs": [],
   "source": []
  }
 ],
 "metadata": {
  "kernelspec": {
   "display_name": "Python 3",
   "language": "python",
   "name": "python3"
  },
  "language_info": {
   "codemirror_mode": {
    "name": "ipython",
    "version": 3
   },
   "file_extension": ".py",
   "mimetype": "text/x-python",
   "name": "python",
   "nbconvert_exporter": "python",
   "pygments_lexer": "ipython3",
   "version": "3.7.6"
  }
 },
 "nbformat": 4,
 "nbformat_minor": 4
}
