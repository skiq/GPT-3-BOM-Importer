{
 "cells": [
  {
   "cell_type": "code",
   "execution_count": 1,
   "metadata": {},
   "outputs": [],
   "source": [
    "#importing the necessary files\n",
    "import json\n",
    "import jsonlines            #because GPT3 needs files in jsonlines format\n",
    "import os                   #to get the env variables from the system\n",
    "import openai \n",
    "import pandas as pd\n",
    "import octopart_check"
   ]
  },
  {
   "cell_type": "code",
   "execution_count": 2,
   "metadata": {},
   "outputs": [],
   "source": [
    "# Load your API key from an environment variable named as OPENAI_API_KEY\n",
    "openai.api_key = os.getenv(\"OPENAI_API_KEY\")"
   ]
  },
  {
   "cell_type": "code",
   "execution_count": 3,
   "metadata": {},
   "outputs": [],
   "source": [
    "#loading the pipe seperated pre-processed test file\n",
    "with open(r'txt separated\\txt separated\\training data\\Bill of Materials-D-Muster_Pyramid _V1(Standard).txt', 'r') as file:\n",
    "    training_data = file.read()"
   ]
  },
  {
   "cell_type": "code",
   "execution_count": 5,
   "metadata": {},
   "outputs": [],
   "source": [
    "#Convert to GPT3 accessible file format : {\"text\":\"...\",\"metadata\":\"...\"}\n",
    "format_training_data = { \"text\" : training_data, \"metadata\" : \"\"}"
   ]
  },
  {
   "cell_type": "code",
   "execution_count": 6,
   "metadata": {},
   "outputs": [],
   "source": [
    "#convert the output into jsonl\n",
    "with jsonlines.open(r'Testing/format_training_data.jsonl', 'w') as writer:\n",
    "    writer.write(format_training_data)"
   ]
  },
  {
   "cell_type": "code",
   "execution_count": 7,
   "metadata": {},
   "outputs": [
    {
     "name": "stderr",
     "output_type": "stream",
     "text": [
      "Upload progress: 100%|███████████████████████████████████████████████████████████| 7.93k/7.93k [00:00<00:00, 14.8kit/s]\n"
     ]
    },
    {
     "data": {
      "text/plain": [
       "<File file id=file-yNPq5TREDpmQ8OzAUX8hHTk9 at 0x1e839a12e28> JSON: {\n",
       "  \"bytes\": 7660,\n",
       "  \"created_at\": 1618607848,\n",
       "  \"filename\": \"Testing/format_training_data.jsonl\",\n",
       "  \"id\": \"file-yNPq5TREDpmQ8OzAUX8hHTk9\",\n",
       "  \"object\": \"file\",\n",
       "  \"purpose\": \"answers\",\n",
       "  \"status\": \"uploaded\",\n",
       "  \"status_details\": null\n",
       "}"
      ]
     },
     "execution_count": 7,
     "metadata": {},
     "output_type": "execute_result"
    }
   ],
   "source": [
    "# create file and uploading\n",
    "openai.File.create(file=open(r'Testing/format_training_data.jsonl'), purpose='answers')"
   ]
  },
  {
   "cell_type": "code",
   "execution_count": 10,
   "metadata": {},
   "outputs": [
    {
     "data": {
      "text/plain": [
       "<File file id=file-yNPq5TREDpmQ8OzAUX8hHTk9 at 0x1e839a5ba08> JSON: {\n",
       "  \"bytes\": 7660,\n",
       "  \"created_at\": 1618607848,\n",
       "  \"filename\": \"Testing/format_training_data.jsonl\",\n",
       "  \"id\": \"file-yNPq5TREDpmQ8OzAUX8hHTk9\",\n",
       "  \"object\": \"file\",\n",
       "  \"purpose\": \"answers\",\n",
       "  \"status\": \"processed\",\n",
       "  \"status_details\": null\n",
       "}"
      ]
     },
     "execution_count": 10,
     "metadata": {},
     "output_type": "execute_result"
    }
   ],
   "source": [
    "#retrieve information to check if the file was successfully uploaded\n",
    "openai.File.retrieve('file-yNPq5TREDpmQ8OzAUX8hHTk9')"
   ]
  },
  {
   "cell_type": "code",
   "execution_count": 114,
   "metadata": {},
   "outputs": [],
   "source": [
    "#Creating parameters for GPT3 to learn our custome DATA\n",
    "example_text = \"|025|2.0|Stk||RS-422/RS-485 Interface IC Half-Duplex RS-485/RS-422-Compatible Transceiver with AutoDirection Control|PCB|MAX13487EESA+|U1, U13|Mouser|Maxim Integrated|https://www.mouser.de/ProductDetail/Maxim-Integrated/MAX13487EESA%2b?qs=sGAEpiMZZMuXae9YOZoWd9EBnNihOkMOLMC5ITnTDKk%3D |045|1.0|Stk||Crystals 32.768kHz 3pF 20ppm -40C +125C|PCB|ABS07W-32.768kHz-K-2-T|Y4|Mouser|ABRACON|https://www.mouser.de/ProductDetail/ABRACON/ABS07W-32768kHz-K-2-T?qs=gt1LBUVyoHkCHJuAeHVlqA%3D%3D |065|8.0|Stk||100uF - 25GV|PCB|865060445005|C11, C15, C16, C25, C27, C36, C38, C72|Würth Electronics||https://www.we-online.de/katalog/de/WCAP-ASLL/?sq=865060445005#865060445005 mV|TAIWAN SEMICONDUCTOR|SK56C||1.0|Farnell|1299292|124156.0|124156.0|| |40.0|Fitted|1.0|U7|FT234XD-R|FT234XD-R - DFN12|DFN-12|FTDI|FT234XD USB to BASIC UART IC, -40 to +85 degC, 12-Pin DFN, Pb-Free, Tape and Reel|FT234XD-R||Mouser|895-FT234XD-R|E00000000144 76.0|IC1|1.0|IFX1117MEV33|Spannungsregler|SOT230P700X170-4N|Infineon Technologies 1.0|U9|DS2764|DS2764BE+025 or DS2764AE+025|Li+ battery monitor I2C bus|Dallas||||75.0|90.0|| 20.0|16.0|STCK|032.062|74HC595 16P-DHVQFN16 HC-MOS SMD|A1-8, A10, A11, A14, A15, A18, A19, A21, A22|Nexperia 74HC595BQ,115 120.0|2.0|STCK|127.001|C 100p 50V NP0 0402 5\\%|SMD-KONDENSATOR|C43, C44|32.21.77, Sams CL05C101JB5NNNC\"\n",
    "q_a_examples =[[\"|025|2.0|Stk||RS-422/RS-485 Interface IC Half-Duplex RS-485/RS-422-Compatible Transceiver with AutoDirection Control|PCB|MAX13487EESA+|U1, U13|Mouser|Maxim Integrated|https://www.mouser.de/ProductDetail/Maxim-Integrated/MAX13487EESA%2b?qs=sGAEpiMZZMuXae9YOZoWd9EBnNihOkMOLMC5ITnTDKk%3D\",\"MAX13487EESA+\"],\n",
    "              [\"|045|1.0|Stk||Crystals 32.768kHz 3pF 20ppm -40C +125C|PCB|ABS07W-32.768kHz-K-2-T|Y4|Mouser|ABRACON|https://www.mouser.de/ProductDetail/ABRACON/ABS07W-32768kHz-K-2-T?qs=gt1LBUVyoHkCHJuAeHVlqA%3D%3D\",\"ABS07W-32.768kHz-K-2-T\"],\n",
    "              [\"|065|8.0|Stk||100uF - 25GV|PCB|865060445005|C11, C15, C16, C25, C27, C36, C38, C72|Würth Electronics||https://www.we-online.de/katalog/de/WCAP-ASLL/?sq=865060445005#865060445005\",\"865060445005\"],\n",
    "              [\"D1|SK56C||SMC|Gleichrichterdiode, Miniatur, Einfach, 60 V, 5 A, DO-214AB, 2, 750 mV|TAIWAN SEMICONDUCTOR|SK56C||1.0|Farnell|1299292|124156.0|124156.0||\",\"SK56C\"],\n",
    "              [\"|40.0|Fitted|1.0|U7|FT234XD-R|FT234XD-R - DFN12|DFN-12|FTDI|FT234XD USB to BASIC UART IC, -40 to +85 degC, 12-Pin DFN, Pb-Free, Tape and Reel|FT234XD-R||Mouser|895-FT234XD-R|E00000000144\",\"FT234XD-R\"],\n",
    "              [\"76.0|IC1|1.0|IFX1117MEV33|Spannungsregler|SOT230P700X170-4N|Infineon Technologies\",\"IFX1117MEV33\"],\n",
    "              [\"1.0|U9|DS2764|DS2764BE+025 or DS2764AE+025|Li+ battery monitor I2C bus|Dallas||||75.0|90.0||\",\"DS2764\"],\n",
    "              [\"20.0|16.0|STCK|032.062|74HC595 16P-DHVQFN16 HC-MOS SMD|A1-8, A10, A11, A14, A15, A18, A19, A21, A22|Nexperia 74HC595BQ,115\",\"74HC595BQ,115\"],\n",
    "              [\"120.0|2.0|STCK|127.001|C 100p 50V NP0 0402 5%|SMD-KONDENSATOR|C43, C44|32.21.77, Sams CL05C101JB5NNNC\",\"CL05C101JB5NNNC\"]] "
   ]
  },
  {
   "cell_type": "code",
   "execution_count": 113,
   "metadata": {},
   "outputs": [],
   "source": [
    "#Define the question\n",
    "Q = \"1.0|XT1|14,7456MHz|XJHCCCNANF-14.7456|Quartz SMT; 14,7456MHz|Taitien||20ppm||75.0|90.0||\""
   ]
  },
  {
   "cell_type": "code",
   "execution_count": 106,
   "metadata": {},
   "outputs": [
    {
     "data": {
      "text/plain": [
       "<OpenAIObject answer at 0x1e83b5db6a8> JSON: {\n",
       "  \"answers\": [\n",
       "    \"XJHCCCNANF-14.7456\"\n",
       "  ],\n",
       "  \"completion\": \"cmpl-2pS5lM0cOHc8piWcL5too9VRGaBoW\",\n",
       "  \"file\": \"file-yNPq5TREDpmQ8OzAUX8hHTk9\",\n",
       "  \"model\": \"ada:2020-05-03\",\n",
       "  \"object\": \"answer\",\n",
       "  \"search_model\": \"ada:2020-05-03\",\n",
       "  \"selected_documents\": [\n",
       "    {\n",
       "      \"document\": 23,\n",
       "      \"object\": \"search_result\",\n",
       "      \"score\": 66.564,\n",
       "      \"text\": \"|15.0|Fitted|1.0|LD2|19-337 SMD-RGB-LED|RGB-LED - M1616|M1616|Everlight|0.35mm Height Chip LED with Full Color - SMD|RGB-LED - M1616||Digi-Key|19-337/R6GHBHC-A01/2T-ND|412019337601\"\n",
       "    },\n",
       "    {\n",
       "      \"document\": 12,\n",
       "      \"object\": \"search_result\",\n",
       "      \"score\": 68.064,\n",
       "      \"text\": \"|4.0|Fitted|1.0|C5|Chip-Kerko  22nF/ 6V/ 10% / X5R / 0201|22nF - 0201|0201|MURATA|Capacitor bipolar|22nF - 0402||||21L210411220\"\n",
       "    },\n",
       "    {\n",
       "      \"document\": 4,\n",
       "      \"object\": \"search_result\",\n",
       "      \"score\": 68.429,\n",
       "      \"text\": \"|17.0|Fitted|1.0|LD4|16-216/T3D-AQ1R2TY/3T|LED white - 0402|||LED 0402|LED white - 0402||||???\"\n",
       "    },\n",
       "    {\n",
       "      \"document\": 0,\n",
       "      \"object\": \"search_result\",\n",
       "      \"score\": 71.944,\n",
       "      \"text\": \"|13.0|Fitted|1.0|J4|FPC_05P-0.5mm-RA-SMD|FPC 0.5mm RA SMD|FPC_05P-0.5mm-RA-SMD|W-CON|0.5mm FPC, 5P,Right Angle SMT,Double Contact,H=1.2mm,White, Tin plated|FPC 0.5mm RA SMD||Cabcon|5141-05RZDNWR01|only Cu\"\n",
       "    }\n",
       "  ]\n",
       "}"
      ]
     },
     "execution_count": 106,
     "metadata": {},
     "output_type": "execute_result"
    }
   ],
   "source": [
    "#Bring GPT3 into action\n",
    "openai.Answer.create( \n",
    "    model=\"ada\",\n",
    "    question= Q,\n",
    "    file=\"file-yNPq5TREDpmQ8OzAUX8hHTk9\", \n",
    "    examples_context=example_text,\n",
    "    examples=q_a_examples,\n",
    "    max_tokens=15,\n",
    "    temperature = 0.1,\n",
    "    stop=[\"\\n\", \"<|endoftext|>\"]\n",
    ")"
   ]
  },
  {
   "cell_type": "markdown",
   "metadata": {},
   "source": [
    "## Automate the process for every row in the excel sheet provided\n",
    "Excel file -> pre-process and convert to csv -> take every line in csv as the quesetion -> run gpt N times (N = # of rows in the excel) -> get the answer -> feed into validator function -> output next to the excel as new column "
   ]
  },
  {
   "cell_type": "markdown",
   "metadata": {},
   "source": [
    "###### def pre_process_excel()\n",
    "###### def get_question_from_csv():\n",
    "###### def run_gpt(question):\n",
    "###### def validator(ans_from_gpt)\n",
    "###### def print_to_excel(ans_from_octopart)"
   ]
  },
  {
   "cell_type": "code",
   "execution_count": 55,
   "metadata": {},
   "outputs": [],
   "source": [
    "#Getting questions from txt file\n",
    "with open(r'txt separated\\txt separated\\training data\\Bill of Materials-D-Muster_Pyramid _V1(Standard).txt', 'r') as f:\n",
    "    row = f.readlines()"
   ]
  },
  {
   "cell_type": "code",
   "execution_count": 112,
   "metadata": {},
   "outputs": [],
   "source": [
    "def get_question_from_csv():\n",
    "    ques = []\n",
    "    for i in (row):\n",
    "        if len(i) > 50 :\n",
    "            ques.append(i)\n",
    "    return ques"
   ]
  },
  {
   "cell_type": "code",
   "execution_count": 111,
   "metadata": {},
   "outputs": [],
   "source": [
    "q = get_question_from_csv()\n",
    "\n",
    "def run_gpt(q):\n",
    "    \n",
    "#     for i in q:\n",
    "#         response = openai.Answer.create( \n",
    "#         model=\"ada\",\n",
    "#         question= i,\n",
    "#         file=\"file-yNPq5TREDpmQ8OzAUX8hHTk9\", \n",
    "#         examples_context=example_text,\n",
    "#         examples=q_a_examples,\n",
    "#         max_tokens=20,\n",
    "#         stop=[\"\\n\", \"<|endoftext|>\"]\n",
    "#     )\n",
    "    for i in q:\n",
    "        print(i)\n",
    "        \n",
    "    ##get the list of answers appended together or indivisualy for every return  \n",
    "    MPN = response['answers'][0]\n",
    "    \n",
    "    return MPN"
   ]
  },
  {
   "cell_type": "code",
   "execution_count": 108,
   "metadata": {},
   "outputs": [],
   "source": [
    "def validate_MPN(MPN):\n",
    "    match = demo_match_mpn(client,str(MPN))\n",
    "    return match"
   ]
  },
  {
   "cell_type": "code",
   "execution_count": 116,
   "metadata": {},
   "outputs": [],
   "source": [
    "def create_excel_file():\n",
    "    \"\"\"can use pandas or xlsxwriter\"\"\"\n",
    "    pass\n",
    "    return new_excel_file"
   ]
  },
  {
   "cell_type": "code",
   "execution_count": 109,
   "metadata": {},
   "outputs": [],
   "source": [
    "def print_to_excel(match,new_excel_file):    \n",
    "    \"\"\" get the information from validator and put it in the correct row of newly created excel sheet\"\"\"\n",
    "    \n",
    "    pass\n",
    "    print(\"File is ready to download\")"
   ]
  },
  {
   "cell_type": "code",
   "execution_count": null,
   "metadata": {},
   "outputs": [],
   "source": []
  }
 ],
 "metadata": {
  "kernelspec": {
   "display_name": "Python 3",
   "language": "python",
   "name": "python3"
  },
  "language_info": {
   "codemirror_mode": {
    "name": "ipython",
    "version": 3
   },
   "file_extension": ".py",
   "mimetype": "text/x-python",
   "name": "python",
   "nbconvert_exporter": "python",
   "pygments_lexer": "ipython3",
   "version": "3.7.6"
  }
 },
 "nbformat": 4,
 "nbformat_minor": 4
}
